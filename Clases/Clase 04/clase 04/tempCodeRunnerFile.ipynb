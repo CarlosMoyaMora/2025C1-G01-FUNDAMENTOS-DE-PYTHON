#Asignacion de tupla
nombre, edad, profesion = 'andres', 33, 'profesor'

print(nombre,edad,profesion)