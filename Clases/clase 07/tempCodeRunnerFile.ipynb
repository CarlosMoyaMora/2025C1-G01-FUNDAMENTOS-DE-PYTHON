import matplotlib.pyplot as plt

dias = ['Lun', 'Mar', 'Mié', 'Jue', 'Vie', 'Sáb', 'Dom', 'Extra']
plt.plot(dias, temperaturas, marker='o')
plt.title('Temperaturas Semanales')
plt.xlabel('Días')
plt.ylabel('Temperatura (°C)')
plt.show()