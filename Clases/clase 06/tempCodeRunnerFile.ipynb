print('porfavor ingrese un numero para mostrar su tabla del uno al 10')
numero_usuario = int(input())
multiplicador = 0
incremento = multiplicador + 1
#PROCESO
while(numero_usuario):
        if numero_usuario:
                operacion = numero_usuario * incremento
                print(f'{numero_usuario} x {incremento} = {operacion}')
                incremento = incremento + 1
                incremento= incremento > 0 and incremento <= 10   