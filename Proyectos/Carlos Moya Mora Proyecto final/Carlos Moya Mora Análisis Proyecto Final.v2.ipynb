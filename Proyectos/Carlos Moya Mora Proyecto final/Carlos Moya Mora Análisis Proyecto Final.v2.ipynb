{
    "cells": [
        {
            "attachments": {},
            "cell_type": "markdown",
            "metadata": {
                "azdata_cell_guid": "43094d38-2acc-463a-bdf3-97ba90623fe5",
                "id": "a62202dd"
            },
            "source": [
                "# 📊 Caso de análisis: Emisiones de dióxido de carbono por país (1975-2017)\n",
                "## 🧠 Objetivo:\n",
                "Los estudiantes deben analizar la evolución de las emisiones de CO₂ en varios países desde 1975 hasta 2017, distinguiendo entre:\n",
                "\n",
                "- Emisiones totales: Miden la cantidad total de CO₂ emitido en un país.\n",
                "\n",
                "- Emisiones per cápita: Indican cuántas toneladas métricas de CO₂ emite, en promedio, una persona en ese país."
            ]
        },
        {
            "attachments": {},
            "cell_type": "markdown",
            "metadata": {
                "azdata_cell_guid": "aaf7af2f-c9dd-4e9e-9de1-6543ad2e0064"
            },
            "source": [
                "## <mark>Estudiante: \\> Carlos Andrey Moya Mora</mark>"
            ]
        },
        {
            "cell_type": "markdown",
            "metadata": {
                "azdata_cell_guid": "5d6834bd-ea61-4f0a-b586-a118753e31a9",
                "id": "e21e6b1c"
            },
            "source": [
                "## Contexto\n"
            ]
        },
        {
            "cell_type": "markdown",
            "metadata": {
                "azdata_cell_guid": "5b449223-cfd9-4324-8796-a7688878110c",
                "id": "c4c7df65"
            },
            "source": [
                "🌍 Análisis de Emisiones de CO₂ – Caso Práctico\n",
                "📁 Archivo: Carbon_Dioxide_Emission_Estimates.csv\n",
                "Contiene datos de emisiones de dióxido de carbono (CO₂) de varios países entre 1975 y 2017.\n",
                "\n",
                "🧾 Estructura de los datos\n",
                "- Country: País\n",
                "\n",
                "- Year: Año\n",
                "\n",
                "- Type: Tipo de emisión:\n",
                "\n",
                "    * Emisiones totales (kilotoneladas métricas)\n",
                "\n",
                "    * Emisiones per cápita (toneladas métricas por persona)\n",
                "\n",
                "- Value: Valor numérico de la emisión\n",
                "\n",
                "🔍 Tipos de emisiones\n",
                "- Totales: CO₂ emitido por todo el país (kt)\n",
                "\n",
                "- Per cápita: CO₂ promedio por persona (t CO₂/persona)\n",
                "\n",
                "    - Se calcula dividiendo emisiones totales por la población"
            ]
        },
        {
            "cell_type": "code",
            "execution_count": 123,
            "metadata": {},
            "outputs": [
                {
                    "name": "stdout",
                    "output_type": "stream",
                    "text": [
                        "   Country  Year                                               Type     Value\n",
                        "0  Albania  1975  Emisiones (kilotoneladas m�tricas de di�xido d...  4338.334\n",
                        "1  Albania  1985  Emisiones (kilotoneladas m�tricas de di�xido d...  6929.926\n",
                        "2  Albania  1995  Emisiones (kilotoneladas m�tricas de di�xido d...  1848.549\n",
                        "3  Albania  2005  Emisiones (kilotoneladas m�tricas de di�xido d...  3825.184\n",
                        "4  Albania  2010  Emisiones (kilotoneladas m�tricas de di�xido d...  3930.295\n"
                    ]
                }
            ],
            "source": [
                "#Importa el CSV como un DataFrame\n",
                "\n",
                "import pandas as pd\n",
                "import csv\n",
                "\n",
                "df = pd.read_csv('Estimaciones_Emisiones_Dioxido_Carbono.csv', encoding='utf-8')\n",
                "\n",
                "print(df.head())\n",
                "\n"
            ]
        },
        {
            "cell_type": "markdown",
            "metadata": {
                "azdata_cell_guid": "32151a06-fbc4-4fc0-9810-bdd34abdb6fd",
                "id": "352UFM-aEWCT"
            },
            "source": [
                "# Pregunta 0\n",
                "\n",
                "1. Crear un dataframe con el nombre de variable 'df_emisions_co2' usando únicamente las filas cuya columna 'Type' tiene el valor 'Emisiones totales de CO₂ emitidas por el país'\n",
                "\n",
                "2. Crear un dataframe con el nombre de variable 'df_emisions_co2_per_capita' usando únicamente las filas cuya columna 'Type' tiene el valor 'Emisiones promedio de CO₂ emitidas por habitante'."
            ]
        },
        {
            "cell_type": "markdown",
            "metadata": {},
            "source": []
        },
        {
            "cell_type": "code",
            "execution_count": 124,
            "metadata": {},
            "outputs": [
                {
                    "name": "stdout",
                    "output_type": "stream",
                    "text": [
                        "       Country  Year                                               Type  \\\n",
                        "0      Albania  1975  Emisiones (kilotoneladas m�tricas de di�xido d...   \n",
                        "1      Albania  1985  Emisiones (kilotoneladas m�tricas de di�xido d...   \n",
                        "2      Albania  1995  Emisiones (kilotoneladas m�tricas de di�xido d...   \n",
                        "3      Albania  2005  Emisiones (kilotoneladas m�tricas de di�xido d...   \n",
                        "4      Albania  2010  Emisiones (kilotoneladas m�tricas de di�xido d...   \n",
                        "...        ...   ...                                                ...   \n",
                        "2119  Zimbabwe  2005  Emisiones (kilotoneladas m�tricas de di�xido d...   \n",
                        "2120  Zimbabwe  2010  Emisiones (kilotoneladas m�tricas de di�xido d...   \n",
                        "2121  Zimbabwe  2015  Emisiones (kilotoneladas m�tricas de di�xido d...   \n",
                        "2122  Zimbabwe  2016  Emisiones (kilotoneladas m�tricas de di�xido d...   \n",
                        "2123  Zimbabwe  2017  Emisiones (kilotoneladas m�tricas de di�xido d...   \n",
                        "\n",
                        "          Value  \n",
                        "0      4338.334  \n",
                        "1      6929.926  \n",
                        "2      1848.549  \n",
                        "3      3825.184  \n",
                        "4      3930.295  \n",
                        "...         ...  \n",
                        "2119  10272.774  \n",
                        "2120   9464.714  \n",
                        "2121  11822.362  \n",
                        "2122  10368.900  \n",
                        "2123   9714.938  \n",
                        "\n",
                        "[1066 rows x 4 columns]\n"
                    ]
                }
            ],
            "source": [
                "#Crea un copia del original filtrado como df_emisions_co2\n",
                "\n",
                "df_emisions_co2 = df[df['Type'] == 'Emisiones (kilotoneladas m�tricas de di�xido de carbono)']\n",
                "\n",
                "print(df_emisions_co2)"
            ]
        },
        {
            "cell_type": "code",
            "execution_count": 125,
            "metadata": {},
            "outputs": [
                {
                    "name": "stdout",
                    "output_type": "stream",
                    "text": [
                        "       Country  Year                                               Type  Value\n",
                        "8      Albania  1975  Emisiones per capita (toneladas m�tricas de di...  1.804\n",
                        "9      Albania  1985  Emisiones per capita (toneladas m�tricas de di...  2.337\n",
                        "10     Albania  1995  Emisiones per capita (toneladas m�tricas de di...  0.580\n",
                        "11     Albania  2005  Emisiones per capita (toneladas m�tricas de di...  1.270\n",
                        "12     Albania  2010  Emisiones per capita (toneladas m�tricas de di...  1.349\n",
                        "...        ...   ...                                                ...    ...\n",
                        "2127  Zimbabwe  2005  Emisiones per capita (toneladas m�tricas de di...  0.794\n",
                        "2128  Zimbabwe  2010  Emisiones per capita (toneladas m�tricas de di...  0.672\n",
                        "2129  Zimbabwe  2015  Emisiones per capita (toneladas m�tricas de di...  0.749\n",
                        "2130  Zimbabwe  2016  Emisiones per capita (toneladas m�tricas de di...  0.642\n",
                        "2131  Zimbabwe  2017  Emisiones per capita (toneladas m�tricas de di...  0.588\n",
                        "\n",
                        "[1066 rows x 4 columns]\n"
                    ]
                }
            ],
            "source": [
                "#Crea un copia del original filtrado como df_emisions_co2_per_capita\n",
                "\n",
                "df_emisions_co2_per_capita = df[df['Type'] == 'Emisiones per capita (toneladas m�tricas de di�xido de carbono)']\n",
                "\n",
                "print(df_emisions_co2_per_capita)"
            ]
        },
        {
            "cell_type": "markdown",
            "metadata": {
                "azdata_cell_guid": "66dbee89-6a74-42d6-b532-a95779ccc82a",
                "id": "d6bd6661"
            },
            "source": [
                "# Pregunta 1\n"
            ]
        },
        {
            "cell_type": "markdown",
            "metadata": {
                "azdata_cell_guid": "b30cf472-64d8-453a-b581-4d01915e9a38",
                "id": "3299b6b5"
            },
            "source": [
                "Cuántas filas tiene el dataframe 'df_emisions_co2'?"
            ]
        },
        {
            "cell_type": "code",
            "execution_count": 126,
            "metadata": {
                "azdata_cell_guid": "63fba01e-a296-4e37-badf-df51ee463964",
                "id": "f02d60cc",
                "language": "python"
            },
            "outputs": [
                {
                    "name": "stdout",
                    "output_type": "stream",
                    "text": [
                        "El df_emisions_co2 tiene un total de 1066\n"
                    ]
                }
            ],
            "source": [
                "# Coloque el código que responda a la pregunta aqui\n",
                "\n",
                "print(f'El df_emisions_co2 tiene un total de {len(df_emisions_co2)}')"
            ]
        },
        {
            "cell_type": "markdown",
            "metadata": {
                "azdata_cell_guid": "5f8f7bed-99e7-4c3b-b621-d430915552a9",
                "id": "880f891d"
            },
            "source": [
                "# Pregunta 2"
            ]
        },
        {
            "cell_type": "markdown",
            "metadata": {
                "azdata_cell_guid": "3025751b-734d-491a-a0f2-e454076155fa",
                "id": "34700c9d"
            },
            "source": [
                "Cuál en el valor más alto de emisiones (en general) usando el dataframe 'df_emisions_co2'?"
            ]
        },
        {
            "cell_type": "code",
            "execution_count": 127,
            "metadata": {
                "azdata_cell_guid": "675d06d0-c52d-4848-8c84-b3503476d7e3",
                "id": "24bdf93a",
                "language": "python"
            },
            "outputs": [
                {
                    "name": "stdout",
                    "output_type": "stream",
                    "text": [
                        "El Valor de emisiones de CO2 mas alto en el df_emisions_co2 es 9257933.9 kt metricas.\n"
                    ]
                }
            ],
            "source": [
                "# Coloque el código que responda a la pregunta aqui exactamente lo que se pregunta\n",
                "\n",
                "emision_max_co2 = df['Value'].max()\n",
                "\n",
                "print(f'El Valor de emisiones de CO2 mas alto en el df_emisions_co2 es {emision_max_co2} kt metricas.')"
            ]
        },
        {
            "cell_type": "markdown",
            "metadata": {
                "azdata_cell_guid": "97637f7a-fb3b-4b24-a6e8-769427d8c984",
                "id": "7ebd3621"
            },
            "source": [
                "# Pregunta 3"
            ]
        },
        {
            "cell_type": "markdown",
            "metadata": {
                "azdata_cell_guid": "4f9d7b44-d0e8-4705-8fa0-9a84d56774cf",
                "id": "eb81f1c8"
            },
            "source": [
                "Cuántos países (Countries) hay en el dataframe 'df_emisions_co2'?"
            ]
        },
        {
            "cell_type": "code",
            "execution_count": 128,
            "metadata": {
                "azdata_cell_guid": "207fdf39-e7dd-4ac4-b3f4-a129a75f2a6d",
                "id": "4f60454b",
                "language": "python"
            },
            "outputs": [
                {
                    "name": "stdout",
                    "output_type": "stream",
                    "text": [
                        "En el df_emisions_co2 hay un total de 142 paises.\n"
                    ]
                }
            ],
            "source": [
                "# Coloque el código que responda a la pregunta aqui exactamente lo que se pregunta\n",
                "\n",
                "paises_df = df[['Country']]\n",
                "paises_df = paises_df.drop_duplicates()\n",
                "\n",
                "\n",
                "print(f'En el df_emisions_co2 hay un total de {len(paises_df)} paises.')"
            ]
        },
        {
            "cell_type": "code",
            "execution_count": 129,
            "metadata": {
                "azdata_cell_guid": "52f1ec4f-654f-43c8-a541-2fe225b3a476",
                "id": "2f46faa0",
                "language": "python"
            },
            "outputs": [
                {
                    "data": {
                        "application/vnd.microsoft.datawrangler.viewer.v0+json": {
                            "columns": [
                                {
                                    "name": "index",
                                    "rawType": "int64",
                                    "type": "integer"
                                },
                                {
                                    "name": "Country",
                                    "rawType": "object",
                                    "type": "string"
                                }
                            ],
                            "conversionMethod": "pd.DataFrame",
                            "ref": "80fd2a6d-d456-498b-b7ce-f7f5c523ce6a",
                            "rows": [
                                [
                                    "0",
                                    "Albania"
                                ],
                                [
                                    "16",
                                    "Algeria"
                                ],
                                [
                                    "32",
                                    "Angola"
                                ],
                                [
                                    "48",
                                    "Argentina"
                                ],
                                [
                                    "64",
                                    "Armenia"
                                ],
                                [
                                    "76",
                                    "Australia"
                                ],
                                [
                                    "92",
                                    "Austria"
                                ],
                                [
                                    "108",
                                    "Azerbaijan"
                                ],
                                [
                                    "120",
                                    "Bahrain"
                                ],
                                [
                                    "136",
                                    "Bangladesh"
                                ],
                                [
                                    "152",
                                    "Belarus"
                                ],
                                [
                                    "164",
                                    "Belgium"
                                ],
                                [
                                    "180",
                                    "Benin"
                                ],
                                [
                                    "196",
                                    "Bolivia (Plurin. State of)"
                                ],
                                [
                                    "212",
                                    "Bosnia and Herzegovina"
                                ],
                                [
                                    "224",
                                    "Botswana"
                                ],
                                [
                                    "238",
                                    "Brazil"
                                ],
                                [
                                    "254",
                                    "Brunei Darussalam"
                                ],
                                [
                                    "270",
                                    "Bulgaria"
                                ],
                                [
                                    "286",
                                    "Cambodia"
                                ],
                                [
                                    "298",
                                    "Cameroon"
                                ],
                                [
                                    "314",
                                    "Canada"
                                ],
                                [
                                    "330",
                                    "Chile"
                                ],
                                [
                                    "346",
                                    "China"
                                ],
                                [
                                    "362",
                                    "China Hong Kong SAR"
                                ],
                                [
                                    "378",
                                    "Colombia"
                                ],
                                [
                                    "394",
                                    "Congo"
                                ],
                                [
                                    "410",
                                    "Costa Rica"
                                ],
                                [
                                    "426",
                                    "Côte d’Ivoire"
                                ],
                                [
                                    "442",
                                    "Croatia"
                                ],
                                [
                                    "454",
                                    "Cuba"
                                ],
                                [
                                    "470",
                                    "Curaçao"
                                ],
                                [
                                    "476",
                                    "Cyprus"
                                ],
                                [
                                    "492",
                                    "Czechia"
                                ],
                                [
                                    "508",
                                    "Dem. People's Rep. Korea"
                                ],
                                [
                                    "524",
                                    "Dem. Rep. of the Congo"
                                ],
                                [
                                    "540",
                                    "Denmark"
                                ],
                                [
                                    "556",
                                    "Dominican Republic"
                                ],
                                [
                                    "572",
                                    "Ecuador"
                                ],
                                [
                                    "588",
                                    "Egypt"
                                ],
                                [
                                    "604",
                                    "El Salvador"
                                ],
                                [
                                    "620",
                                    "Eritrea"
                                ],
                                [
                                    "632",
                                    "Estonia"
                                ],
                                [
                                    "644",
                                    "Ethiopia"
                                ],
                                [
                                    "660",
                                    "Finland"
                                ],
                                [
                                    "676",
                                    "France"
                                ],
                                [
                                    "692",
                                    "Gabon"
                                ],
                                [
                                    "708",
                                    "Georgia"
                                ],
                                [
                                    "720",
                                    "Germany"
                                ],
                                [
                                    "736",
                                    "Ghana"
                                ]
                            ],
                            "shape": {
                                "columns": 1,
                                "rows": 142
                            }
                        },
                        "text/html": [
                            "<div>\n",
                            "<style scoped>\n",
                            "    .dataframe tbody tr th:only-of-type {\n",
                            "        vertical-align: middle;\n",
                            "    }\n",
                            "\n",
                            "    .dataframe tbody tr th {\n",
                            "        vertical-align: top;\n",
                            "    }\n",
                            "\n",
                            "    .dataframe thead th {\n",
                            "        text-align: right;\n",
                            "    }\n",
                            "</style>\n",
                            "<table border=\"1\" class=\"dataframe\">\n",
                            "  <thead>\n",
                            "    <tr style=\"text-align: right;\">\n",
                            "      <th></th>\n",
                            "      <th>Country</th>\n",
                            "    </tr>\n",
                            "  </thead>\n",
                            "  <tbody>\n",
                            "    <tr>\n",
                            "      <th>0</th>\n",
                            "      <td>Albania</td>\n",
                            "    </tr>\n",
                            "    <tr>\n",
                            "      <th>16</th>\n",
                            "      <td>Algeria</td>\n",
                            "    </tr>\n",
                            "    <tr>\n",
                            "      <th>32</th>\n",
                            "      <td>Angola</td>\n",
                            "    </tr>\n",
                            "    <tr>\n",
                            "      <th>48</th>\n",
                            "      <td>Argentina</td>\n",
                            "    </tr>\n",
                            "    <tr>\n",
                            "      <th>64</th>\n",
                            "      <td>Armenia</td>\n",
                            "    </tr>\n",
                            "    <tr>\n",
                            "      <th>...</th>\n",
                            "      <td>...</td>\n",
                            "    </tr>\n",
                            "    <tr>\n",
                            "      <th>2052</th>\n",
                            "      <td>Venezuela (Boliv. Rep. of)</td>\n",
                            "    </tr>\n",
                            "    <tr>\n",
                            "      <th>2068</th>\n",
                            "      <td>Viet Nam</td>\n",
                            "    </tr>\n",
                            "    <tr>\n",
                            "      <th>2084</th>\n",
                            "      <td>Yemen</td>\n",
                            "    </tr>\n",
                            "    <tr>\n",
                            "      <th>2100</th>\n",
                            "      <td>Zambia</td>\n",
                            "    </tr>\n",
                            "    <tr>\n",
                            "      <th>2116</th>\n",
                            "      <td>Zimbabwe</td>\n",
                            "    </tr>\n",
                            "  </tbody>\n",
                            "</table>\n",
                            "<p>142 rows × 1 columns</p>\n",
                            "</div>"
                        ],
                        "text/plain": [
                            "                         Country\n",
                            "0                        Albania\n",
                            "16                       Algeria\n",
                            "32                        Angola\n",
                            "48                     Argentina\n",
                            "64                       Armenia\n",
                            "...                          ...\n",
                            "2052  Venezuela (Boliv. Rep. of)\n",
                            "2068                    Viet Nam\n",
                            "2084                       Yemen\n",
                            "2100                      Zambia\n",
                            "2116                    Zimbabwe\n",
                            "\n",
                            "[142 rows x 1 columns]"
                        ]
                    },
                    "execution_count": 129,
                    "metadata": {},
                    "output_type": "execute_result"
                }
            ],
            "source": [
                "#Imprima un lista con todos los paises\n",
                "\n",
                "paises_df"
            ]
        },
        {
            "cell_type": "markdown",
            "metadata": {
                "azdata_cell_guid": "30e5c2d6-95aa-4bda-ad89-2b581a214d82",
                "id": "1e40352a"
            },
            "source": [
                "# Pregunta 4"
            ]
        },
        {
            "cell_type": "markdown",
            "metadata": {
                "azdata_cell_guid": "d4c1a6a0-d184-4feb-9c6e-a934c52d0343",
                "id": "80c46908"
            },
            "source": [
                "Cuál es el país que tiene mayor emisiones usando el dataframe 'df_emisions_co2'?"
            ]
        },
        {
            "cell_type": "code",
            "execution_count": 130,
            "metadata": {
                "azdata_cell_guid": "ee5ff21c-8288-42a9-9212-4d88ff639e85",
                "id": "e6df7d42",
                "language": "python"
            },
            "outputs": [
                {
                    "data": {
                        "application/vnd.microsoft.datawrangler.viewer.v0+json": {
                            "columns": [
                                {
                                    "name": "index",
                                    "rawType": "int64",
                                    "type": "integer"
                                },
                                {
                                    "name": "Country",
                                    "rawType": "object",
                                    "type": "string"
                                },
                                {
                                    "name": "Year",
                                    "rawType": "int64",
                                    "type": "integer"
                                },
                                {
                                    "name": "Type",
                                    "rawType": "object",
                                    "type": "string"
                                },
                                {
                                    "name": "Value",
                                    "rawType": "float64",
                                    "type": "float"
                                }
                            ],
                            "conversionMethod": "pd.DataFrame",
                            "ref": "7ae3d01d-4baf-40bd-b727-1b3300db5eb8",
                            "rows": [
                                [
                                    "353",
                                    "China",
                                    "2017",
                                    "Emisiones (kilotoneladas m�tricas de di�xido de carbono)",
                                    "9257933.9"
                                ]
                            ],
                            "shape": {
                                "columns": 4,
                                "rows": 1
                            }
                        },
                        "text/html": [
                            "<div>\n",
                            "<style scoped>\n",
                            "    .dataframe tbody tr th:only-of-type {\n",
                            "        vertical-align: middle;\n",
                            "    }\n",
                            "\n",
                            "    .dataframe tbody tr th {\n",
                            "        vertical-align: top;\n",
                            "    }\n",
                            "\n",
                            "    .dataframe thead th {\n",
                            "        text-align: right;\n",
                            "    }\n",
                            "</style>\n",
                            "<table border=\"1\" class=\"dataframe\">\n",
                            "  <thead>\n",
                            "    <tr style=\"text-align: right;\">\n",
                            "      <th></th>\n",
                            "      <th>Country</th>\n",
                            "      <th>Year</th>\n",
                            "      <th>Type</th>\n",
                            "      <th>Value</th>\n",
                            "    </tr>\n",
                            "  </thead>\n",
                            "  <tbody>\n",
                            "    <tr>\n",
                            "      <th>353</th>\n",
                            "      <td>China</td>\n",
                            "      <td>2017</td>\n",
                            "      <td>Emisiones (kilotoneladas m�tricas de di�xido d...</td>\n",
                            "      <td>9257933.9</td>\n",
                            "    </tr>\n",
                            "  </tbody>\n",
                            "</table>\n",
                            "</div>"
                        ],
                        "text/plain": [
                            "    Country  Year                                               Type  \\\n",
                            "353   China  2017  Emisiones (kilotoneladas m�tricas de di�xido d...   \n",
                            "\n",
                            "         Value  \n",
                            "353  9257933.9  "
                        ]
                    },
                    "execution_count": 130,
                    "metadata": {},
                    "output_type": "execute_result"
                }
            ],
            "source": [
                "# Coloque el código que responda a la pregunta aqui exactamente lo que se pregunta\n",
                "\n",
                "max_emision_pais = df_emisions_co2[df_emisions_co2['Value'] == emision_max_co2]\n",
                "\n",
                "max_emision_pais"
            ]
        },
        {
            "cell_type": "markdown",
            "metadata": {
                "azdata_cell_guid": "da6c194b-ecdd-42b0-82ca-210d6b74f57f",
                "id": "26c97fde"
            },
            "source": [
                "# Pregunta 5"
            ]
        },
        {
            "cell_type": "markdown",
            "metadata": {
                "azdata_cell_guid": "a5cf8867-358a-40cb-9933-027dd8e06aa3",
                "id": "541f44ca"
            },
            "source": [
                "Cuál es el año que tiene mayor emisiones para el país de Spain usando el dataframe 'df_emisions_co2'?"
            ]
        },
        {
            "cell_type": "code",
            "execution_count": 131,
            "metadata": {},
            "outputs": [
                {
                    "name": "stdout",
                    "output_type": "stream",
                    "text": [
                        "El año con mayor emisión para España es: 2005\n"
                    ]
                }
            ],
            "source": [
                "# Coloque el código que responda a la pregunta aqui exactamente lo que se pregunta\n",
                "\n",
                "\n",
                "españa = df_emisions_co2[df_emisions_co2['Country'] == 'Spain'].groupby('Year')['Value'].sum().idxmax()\n",
                "print(f\"El año con mayor emisión para España es: {españa}\")"
            ]
        },
        {
            "cell_type": "code",
            "execution_count": 132,
            "metadata": {
                "azdata_cell_guid": "10e7e0fe-162a-4b2a-a01e-db2bd04b6865",
                "id": "c32f62d1",
                "language": "python"
            },
            "outputs": [
                {
                    "name": "stdout",
                    "output_type": "stream",
                    "text": [
                        "El año con mas emisiones para España fue 2005 con un total de 333710.098 ktm ese Año\n"
                    ]
                },
                {
                    "data": {
                        "application/vnd.microsoft.datawrangler.viewer.v0+json": {
                            "columns": [
                                {
                                    "name": "index",
                                    "rawType": "int64",
                                    "type": "integer"
                                },
                                {
                                    "name": "Country",
                                    "rawType": "object",
                                    "type": "string"
                                },
                                {
                                    "name": "Year",
                                    "rawType": "int64",
                                    "type": "integer"
                                },
                                {
                                    "name": "Type",
                                    "rawType": "object",
                                    "type": "string"
                                },
                                {
                                    "name": "Value",
                                    "rawType": "float64",
                                    "type": "float"
                                }
                            ],
                            "conversionMethod": "pd.DataFrame",
                            "ref": "0bbeb885-3011-4edc-ba6f-7208867a4a18",
                            "rows": [
                                [
                                    "1729",
                                    "Spain",
                                    "2005",
                                    "Emisiones (kilotoneladas m�tricas de di�xido de carbono)",
                                    "333710.098"
                                ]
                            ],
                            "shape": {
                                "columns": 4,
                                "rows": 1
                            }
                        },
                        "text/html": [
                            "<div>\n",
                            "<style scoped>\n",
                            "    .dataframe tbody tr th:only-of-type {\n",
                            "        vertical-align: middle;\n",
                            "    }\n",
                            "\n",
                            "    .dataframe tbody tr th {\n",
                            "        vertical-align: top;\n",
                            "    }\n",
                            "\n",
                            "    .dataframe thead th {\n",
                            "        text-align: right;\n",
                            "    }\n",
                            "</style>\n",
                            "<table border=\"1\" class=\"dataframe\">\n",
                            "  <thead>\n",
                            "    <tr style=\"text-align: right;\">\n",
                            "      <th></th>\n",
                            "      <th>Country</th>\n",
                            "      <th>Year</th>\n",
                            "      <th>Type</th>\n",
                            "      <th>Value</th>\n",
                            "    </tr>\n",
                            "  </thead>\n",
                            "  <tbody>\n",
                            "    <tr>\n",
                            "      <th>1729</th>\n",
                            "      <td>Spain</td>\n",
                            "      <td>2005</td>\n",
                            "      <td>Emisiones (kilotoneladas m�tricas de di�xido d...</td>\n",
                            "      <td>333710.098</td>\n",
                            "    </tr>\n",
                            "  </tbody>\n",
                            "</table>\n",
                            "</div>"
                        ],
                        "text/plain": [
                            "     Country  Year                                               Type  \\\n",
                            "1729   Spain  2005  Emisiones (kilotoneladas m�tricas de di�xido d...   \n",
                            "\n",
                            "           Value  \n",
                            "1729  333710.098  "
                        ]
                    },
                    "execution_count": 132,
                    "metadata": {},
                    "output_type": "execute_result"
                }
            ],
            "source": [
                "# Coloque el código que responda a la pregunta aqui exactamente lo que se pregunta\n",
                "\n",
                "co2_spain = df_emisions_co2[df_emisions_co2['Country'] == 'Spain']\n",
                "\n",
                "max_co2_spain = co2_spain[co2_spain['Value'] == co2_spain['Value'].max()]\n",
                "\n",
                "print(f'El año con mas emisiones para España fue {max_co2_spain['Year'].values[0]} con un total de {max_co2_spain['Value'].values[0]} ktm ese Año')\n",
                "\n",
                "max_co2_spain"
            ]
        },
        {
            "cell_type": "markdown",
            "metadata": {
                "azdata_cell_guid": "78a2c35d-5ca9-4cc2-9890-05b367218238",
                "id": "55ce4564"
            },
            "source": [
                "# Pregunta 6"
            ]
        },
        {
            "cell_type": "markdown",
            "metadata": {
                "azdata_cell_guid": "048ff587-0368-4c8c-930d-678786aa18c3",
                "id": "3473e4f2"
            },
            "source": [
                "Cuáles son los años que se tiene registros para el dataframe 'df_emisions_co2_per_capita'?\n",
                "\n",
                "Entrege una lista con los años sin repetirse"
            ]
        },
        {
            "cell_type": "code",
            "execution_count": 133,
            "metadata": {
                "azdata_cell_guid": "75d9cbc6-d254-49d4-8cfc-7b0f74456608",
                "id": "5ad50924",
                "language": "python"
            },
            "outputs": [
                {
                    "data": {
                        "text/plain": [
                            "8     1975\n",
                            "9     1985\n",
                            "10    1995\n",
                            "11    2005\n",
                            "12    2010\n",
                            "13    2015\n",
                            "14    2016\n",
                            "15    2017\n",
                            "Name: Year, dtype: int64"
                        ]
                    },
                    "execution_count": 133,
                    "metadata": {},
                    "output_type": "execute_result"
                }
            ],
            "source": [
                "# Coloque el código que responda a la pregunta aqui exactamente lo que se pregunta\n",
                "\n",
                "años_registrados_percapita = df_emisions_co2_per_capita['Year']\n",
                "\n",
                "años_registrados_percapita.drop_duplicates()"
            ]
        },
        {
            "cell_type": "markdown",
            "metadata": {
                "azdata_cell_guid": "8cee75a7-4fcc-47eb-883a-641aa900bc51",
                "id": "18fa522e"
            },
            "source": [
                "# Pregunta 7"
            ]
        },
        {
            "cell_type": "markdown",
            "metadata": {
                "azdata_cell_guid": "8532f291-3bd2-4da4-9eb3-7ac69e49b4a5",
                "id": "2747ce42"
            },
            "source": [
                "Cuántas son las emisiones en 'kilotoneladas métricas' en total usando todos los países para usando el dataframe 'df_emisions_co2'?\n"
            ]
        },
        {
            "cell_type": "code",
            "execution_count": 134,
            "metadata": {
                "azdata_cell_guid": "3b4710af-d857-49ce-9b19-931839541d39",
                "id": "e8cbd117",
                "language": "python"
            },
            "outputs": [
                {
                    "name": "stdout",
                    "output_type": "stream",
                    "text": [
                        "El total de kt metricas tomando en cuenta todos los paises fue de 195028250.41599998ktm\n"
                    ]
                }
            ],
            "source": [
                "# Coloque el código que responda a la pregunta aqui exactamente lo que se pregunta\n",
                "emisiones_total_ktm = df_emisions_co2['Value'].sum()\n",
                "\n",
                "print(f'El total de kt metricas tomando en cuenta todos los paises fue de {emisiones_total_ktm}ktm')\n",
                "\n"
            ]
        },
        {
            "cell_type": "markdown",
            "metadata": {
                "azdata_cell_guid": "ddfe093b-e52f-4379-8062-efedfbddb684",
                "id": "42aa86db"
            },
            "source": [
                "# Pregunta 8"
            ]
        },
        {
            "cell_type": "markdown",
            "metadata": {
                "azdata_cell_guid": "ce742599-a5c4-41c7-87f1-7a881676c09f",
                "id": "a303974d"
            },
            "source": [
                "Cuántas son las emisiones en 'kilotoneladas métricas' sólo para Albania usando el dataframe 'df_emisions_co2'?\n"
            ]
        },
        {
            "cell_type": "code",
            "execution_count": 142,
            "metadata": {
                "azdata_cell_guid": "86c46d24-2812-47a3-aa64-fd2d6981cf9a",
                "id": "181ab815",
                "language": "python"
            },
            "outputs": [
                {
                    "name": "stdout",
                    "output_type": "stream",
                    "text": [
                        "El total de emisiones que tuvo Albania contando todos los años registrados es de 32713.283000000003 KTM\n"
                    ]
                },
                {
                    "name": "stderr",
                    "output_type": "stream",
                    "text": [
                        "C:\\Users\\Not MOYA\\AppData\\Local\\Temp\\ipykernel_1600\\80116304.py:2: UserWarning: Boolean Series key will be reindexed to match DataFrame index.\n",
                        "  co2_albania = df_emisions_co2[df['Country'] == 'Albania']\n"
                    ]
                }
            ],
            "source": [
                "# Coloque el código que responda a la pregunta aqui exactamente lo que se pregunta\n",
                "co2_albania = df_emisions_co2[df['Country'] == 'Albania']\n",
                "\n",
                "co2_albania\n",
                "\n",
                "print(f'El total de emisiones que tuvo Albania contando todos los años registrados es de {co2_albania['Value'].sum()} KTM')"
            ]
        },
        {
            "cell_type": "markdown",
            "metadata": {
                "azdata_cell_guid": "5d5b3bfb-2643-45d0-ba92-b53affb67c17",
                "id": "d084c9f3"
            },
            "source": [
                "# Pregunta 9"
            ]
        },
        {
            "cell_type": "markdown",
            "metadata": {
                "azdata_cell_guid": "acd10e28-cde4-48c3-bba9-eee6323b06cc",
                "id": "ae9cebff"
            },
            "source": [
                "Cuántas son las emisiones totales en 'libras' sólo para Costa Rica usando el dataframe 'df_emisions_co2'?\n"
            ]
        },
        {
            "cell_type": "code",
            "execution_count": 136,
            "metadata": {
                "azdata_cell_guid": "8c372164-c8f6-4e72-9fd3-2b7c1eaf0499",
                "id": "ee97d492",
                "language": "python"
            },
            "outputs": [],
            "source": [
                "# Coloque el código que responda a la pregunta aqui exactamente lo que se pregunta"
            ]
        },
        {
            "cell_type": "markdown",
            "metadata": {
                "azdata_cell_guid": "e505d100-2c39-45a3-9c7d-70c1f83b268d",
                "id": "eb6dfc54"
            },
            "source": [
                "# Pregunta 10"
            ]
        },
        {
            "cell_type": "markdown",
            "metadata": {
                "azdata_cell_guid": "cfe25701-d219-459b-a108-75787ee1f8ae",
                "id": "5862817e"
            },
            "source": [
                "Para sólo 'Costa Rica' y suponiendo que las emisiones se estancan a partir del último año reportado (se mantiene igual). Cuántas son las emisiones en 'Kg' sólo para Costa Rica en el año desde el ultimo año hasta el 2025 usando el dataframe 'df_emisions_co2'?\n"
            ]
        },
        {
            "cell_type": "code",
            "execution_count": 137,
            "metadata": {
                "azdata_cell_guid": "c65ecf97-b679-4808-91cc-fe771ce12b6b",
                "id": "76ed009c",
                "language": "python"
            },
            "outputs": [],
            "source": [
                "# Coloque el código que responda a la pregunta aqui exactamente lo que se pregunta"
            ]
        },
        {
            "cell_type": "markdown",
            "metadata": {
                "azdata_cell_guid": "46cbe15c-fe3e-440c-8d83-8c8f73e4d5a7",
                "id": "1c18874b"
            },
            "source": [
                "# Pregunta 11"
            ]
        },
        {
            "cell_type": "markdown",
            "metadata": {
                "azdata_cell_guid": "14dc18b7-8bdb-41a5-a5eb-34da63fef812",
                "id": "6a487c43"
            },
            "source": [
                "Para sólo los países de Centroamérica ['El Salvador', 'Honduras', 'Guatemala', 'Costa Rica', 'Nicaragua'] obtener un reporte por año de las emisiones totales en Centroamérica usando el dataframe 'df_emisions_co2'?\n",
                "Se espera un dataframe de 2 columnas: 'Year' y 'total_por_año'"
            ]
        },
        {
            "cell_type": "code",
            "execution_count": 138,
            "metadata": {
                "azdata_cell_guid": "ba31d64d-a10b-4275-b19e-86f3e18984b6",
                "id": "1d0426bf",
                "language": "python"
            },
            "outputs": [],
            "source": [
                "# Coloque el código que responda a la pregunta aqui exactamente lo que se pregunta"
            ]
        },
        {
            "cell_type": "markdown",
            "metadata": {
                "azdata_cell_guid": "77c94d71-c324-4495-88c1-90cb5953b117",
                "id": "8fdaae3d"
            },
            "source": [
                "# Pregunta 12"
            ]
        },
        {
            "cell_type": "markdown",
            "metadata": {
                "azdata_cell_guid": "e4379b6f-d518-49e9-ba6a-181999caae36",
                "id": "8a7e17ff"
            },
            "source": [
                "Para sólo los países de Centroamérica ['El Salvador', 'Honduras', 'Guatemala', 'Costa Rica', 'Nicaragua'] obtener un reporte por año de las emisiones en promedio en Centroamérica usando el dataframe 'df_emisions_co2_per_capita'?\n",
                "Se espera un dataframe de 2 columnas: 'Year' y 'promedio_por_año'"
            ]
        },
        {
            "cell_type": "code",
            "execution_count": 139,
            "metadata": {
                "azdata_cell_guid": "b8107b3d-4b45-45e3-9c3e-2e20c56ed7a9",
                "id": "4ec787f4",
                "language": "python"
            },
            "outputs": [],
            "source": [
                "# Coloque el código que responda a la pregunta aqui exactamente lo que se pregunta"
            ]
        },
        {
            "cell_type": "markdown",
            "metadata": {
                "azdata_cell_guid": "0a62ff93-d68b-48da-b993-51cc40362107",
                "id": "944ac865"
            },
            "source": [
                "# Pregunta 13"
            ]
        },
        {
            "cell_type": "markdown",
            "metadata": {
                "azdata_cell_guid": "3f87f1b5-8bed-42ed-aba4-3b2244324e40",
                "id": "b961da55"
            },
            "source": [
                "Cuál es el promedio de las emisiones per capita para el año 2005 usando el dataframe 'df_emisions_co2_per_capita'?\n"
            ]
        },
        {
            "cell_type": "code",
            "execution_count": 140,
            "metadata": {
                "azdata_cell_guid": "fe76819d-d78b-4923-9982-967e36223207",
                "id": "e2f0a786",
                "language": "python"
            },
            "outputs": [],
            "source": [
                "# Coloque el código que responda a la pregunta aqui exactamente lo que se pregunta"
            ]
        },
        {
            "cell_type": "markdown",
            "metadata": {},
            "source": [
                "# Pregunta 14\n",
                "\n",
                "\n",
                "\n",
                "Usa el dataframe  'df_emisions_co2_per_capita' con las columnas Year y promedio_por_año para crear una gráfica de líneas que muestre la evolución del promedio de emisiones per cápita en Centroamérica a lo largo del tiempo; el eje X debe ser el año y el eje Y el promedio de emisiones."
            ]
        },
        {
            "cell_type": "code",
            "execution_count": 141,
            "metadata": {},
            "outputs": [],
            "source": [
                "# Coloque el código que responda a la pregunta aqui exactamente lo que se pregunta"
            ]
        }
    ],
    "metadata": {
        "colab": {
            "provenance": []
        },
        "kernelspec": {
            "display_name": "Python 3",
            "language": "python",
            "name": "python3"
        },
        "language_info": {
            "codemirror_mode": {
                "name": "ipython",
                "version": 3
            },
            "file_extension": ".py",
            "mimetype": "text/x-python",
            "name": "python",
            "nbconvert_exporter": "python",
            "pygments_lexer": "ipython3",
            "version": "3.13.2"
        }
    },
    "nbformat": 4,
    "nbformat_minor": 2
}
