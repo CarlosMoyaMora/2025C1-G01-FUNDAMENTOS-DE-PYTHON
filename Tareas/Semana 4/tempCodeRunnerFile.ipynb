# debemos ingresar la distancia que hay de marte al sol
nombre_planeta = int(input('Por favor ingrese el nombre de un planeta para calcular el tiempo que le toma a la luz del sol llegar a el '))
distancia_sol = float(input('Por favor ingrese la distancia que hay de el Sol a  {nombre_planeta}'))