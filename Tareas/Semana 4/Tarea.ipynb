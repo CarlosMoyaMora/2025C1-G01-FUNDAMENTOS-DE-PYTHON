{
 "cells": [
  {
   "cell_type": "markdown",
   "metadata": {
    "id": "q7R3dARlFtDY"
   },
   "source": [
    "# Segundo análisis de casos – Fundamentos de Python By Carlos Moya Mora\n",
    "\n",
    "## Objetivo:\n",
    "En esta tarea, practicaremos los fundamentos básicos de Python resolviendo **cuatro ejercicios** de la lista planteada. Cada solución debe detallar **entradas**, **procesos** y **salidas** para comprender mejor cómo funciona cada problema.\n",
    "\n",
    "### Formato para cada ejercicio (seleccionemos 4 ejercicios):\n",
    "#### Ejercicio X:\n",
    "- **Descripción del problema:** Incluiremos el enunciado del ejercicio.\n",
    "- **Entradas:** Detallaremos los datos que debemos ingresar.\n",
    "- **Proceso:** Explicaremos cómo resolveremos el problema (algoritmo o fórmula).\n",
    "- **Salidas:** Describiremos el resultado que veremos en pantalla al final del proceso.\n",
    "\n",
    "#### Código del ejercicio:\n",
    "- Escribiremos la solución del ejercicio en una celda de código Python.\n",
    "- Agregaremos comentarios para explicar el código y hacerlo más comprensible.\n",
    "\n",
    "### Conclusión:\n",
    "- Al final, resumiremos lo que hemos aprendido resolviendo los ejercicios.\n",
    "- Reflexionaremos sobre cómo Python nos ayuda a solucionar problemas cotidianos.\n",
    "\n",
    "## Formato de entrega del informe en PDF:\n",
    "\n",
    "Debemos exportar nuestro notebook de Jupyter a formato PDF, cumpliendo con las siguientes pautas:\n",
    "\n",
    "### Portada:\n",
    "- Título: \"Primer análisis de casos – Fundamentos de Python\".\n",
    "- Nuestro nombre completo.\n",
    "- Fecha de entrega.\n",
    "- Curso.\n",
    "\n",
    "### Cuerpo del informe:\n",
    "- **Introducción:** Explicaremos brevemente los ejercicios que hemos seleccionado.\n",
    "- **Desarrollo de cada ejercicio:**\n",
    "  - Descripción del problema.\n",
    "  - Entradas, procesos y salidas detallados.\n",
    "  - Capturas de pantalla del código y del resultado de la ejecución.\n",
    "\n",
    "### Conclusión:\n",
    "- Reflexionaremos sobre el aprendizaje y las posibles dificultades que enfrentamos durante la resolución de los ejercicios.\n",
    "\n",
    "## Lista de ejercicios (Seleccionemos 4):\n",
    "\n",
    "1. Calcular el área de un triángulo a partir de la base y altura ingresadas.\n",
    "2. Convertir una cantidad de dólares a colones.\n",
    "3. Convertir grados centígrados a Fahrenheit.\n",
    "4. Mostrar cuántos segundos tiene un lustro.\n",
    "5. Calcular el tiempo que le toma a la luz viajar del sol a Marte.\n",
    "6. Calcular cuántas vueltas da una llanta en 1 km.\n",
    "7. Calcular la longitud de la sombra de un edificio de 20 metros.\n",
    "8. Comparar si la edad ingresada por dos usuarios es la misma.\n",
    "9. Calcular cuántos meses han transcurrido desde nuestra fecha de nacimiento.\n",
    "10. Calcular el promedio de un alumno en 5 materias.\n",
    "\n",
    "## Proceso de entrega:\n",
    "1. Resolveremos 4 de los ejercicios propuestos en un notebook de.\n",
    "2. Exportaremos el notebook a PDF siguiendo el formato establecido.\n",
    "3. Subiremos el PDF y el archivo de notebook (.ipynb) a la plataforma antes de la fecha límite.\n"
   ]
  },
  {
   "cell_type": "markdown",
   "metadata": {},
   "source": [
    "# Problema #1\n",
    "\n",
    "### Convertir una cantidad de dólares a colones.\n",
    "\n",
    "## Entrada: \n",
    "Leer La cantidad de dolares\n",
    "Leer tipo cambio\n",
    "\n",
    "## Proceso:\n",
    "\n",
    "cantidad_dolares * tipo_cambio\n",
    "\n",
    "## Salida:\n",
    "\n",
    "resultado de la multiplicacion"
   ]
  },
  {
   "cell_type": "code",
   "execution_count": null,
   "metadata": {
    "colab": {
     "base_uri": "https://localhost:8080/"
    },
    "executionInfo": {
     "elapsed": 10485,
     "status": "ok",
     "timestamp": 1712064323417,
     "user": {
      "displayName": "Andrés Mena Abarca",
      "userId": "07418092259593836578"
     },
     "user_tz": 360
    },
    "id": "n3rOsUESDeTs",
    "outputId": "1cd40ed7-f1d2-4b89-bca5-696418df0021"
   },
   "outputs": [
    {
     "name": "stdout",
     "output_type": "stream",
     "text": [
      "Esta es la cantidad de colones   511000.0\n"
     ]
    }
   ],
   "source": [
    "## Realizado por Carlos Moya Mora, año 2025\n",
    "\n",
    "# nos solicita el dato mediante un mensaje\n",
    "cantidad_dolares = float(input('Por favor ingrese la cantidad de dolares que desea convertir a colones')) \n",
    "\n",
    "# nos solicita el tipo de cambio mediane un mensaje\n",
    "tipo_cambio = float(input('Por favor ingrese el tipo de cambio al dia de hoy'))\n",
    "\n",
    "# esta es la operacion que nos da el resultado que necesitamos obtener \n",
    "cantidad_colones = cantidad_dolares * tipo_cambio\n",
    "\n",
    "# nos muestra un mensaje con el resultado de la convercion de dolares a colones\n",
    "print(\"Esta es la cantidad de colones\", \" \", cantidad_colones)\n"
   ]
  },
  {
   "cell_type": "markdown",
   "metadata": {},
   "source": [
    "# Problema #2\n",
    "\n",
    "### 5. Calcular el tiempo que le toma a la luz viajar del sol a cualquier planeta.\n",
    "\n",
    "## Entrada:leer nombre de el planeta\n",
    "\n",
    "## Proceso: calcular tiempo= distancia / velocidad_luz\n",
    "\n",
    "## Salida: el tiempo que le toma a luz llegar a cualquier planeta desde el sol"
   ]
  },
  {
   "cell_type": "code",
   "execution_count": 9,
   "metadata": {},
   "outputs": [
    {
     "name": "stdout",
     "output_type": "stream",
     "text": [
      "El tiempo que le toma a la luz en viajar de el sol a Marte es de 12.675435617529779 minutos Aproximadamente.\n"
     ]
    }
   ],
   "source": [
    "## aplicacion realizada por Carlos Moya Moya\n",
    "## Hecho el 02/2025\n",
    "\n",
    "# debemos ingresar la distancia que hay de marte al sol\n",
    "nombre_planeta = str(input('Por favor ingrese el nombre de un planeta para calcular el tiempo que le toma a la luz del sol llegar a el '))\n",
    "distancia_sol = float(input(f'Por favor ingrese la distancia que hay de el Sol a  {nombre_planeta} en kilometros'))\n",
    "\n",
    "Velocidad_luz = 299792458 # declaramos la velocidad de la luz\n",
    "distancia_metros = distancia_sol * 1000 # formula para convertir de metros a kilometros\n",
    "tiempo_viaje= distancia_metros / Velocidad_luz #Formula para saber el tiempo que le tomo a la luz viajar de el sol a cualquier planeta\n",
    "\n",
    "# nos muestra un mensaje con el resultado de el tiempo en minutos que le toma a la luz viajar de el sol a cualquier planeta\n",
    "print(f'El tiempo que le toma a la luz en viajar de el sol a {nombre_planeta} es de {tiempo_viaje / 60} minutos Aproximadamente.')\n",
    "\n",
    "\n"
   ]
  },
  {
   "cell_type": "markdown",
   "metadata": {},
   "source": [
    "# Problema #3\n",
    "\n",
    "### 8. Comparar si la edad ingresada por dos usuarios es la misma.\n",
    "\n",
    "## Entrada: leer la edad de el usuario 1 y leer la edad de el usuario 2 \n",
    "\n",
    "## Proceso: Edad1 == edad2\n",
    "\n",
    "## Salida: mostrar un mensaje al usuario que le diga si las edades ingresadas son las mismas o si son diferentes"
   ]
  },
  {
   "cell_type": "code",
   "execution_count": null,
   "metadata": {},
   "outputs": [
    {
     "name": "stdout",
     "output_type": "stream",
     "text": [
      "Carlos tiene la misma edad que Daya\n"
     ]
    }
   ],
   "source": [
    "## aplicacion realizada por Carlos Moya Moya\n",
    "## Hecho el 02/2025\n",
    "\n",
    "nombre_usuario1 = str(input('Por favor, escribe tu nombre'))# solicita el nombre al usuario1\n",
    "nombre_usuario2 = str(input('Por favor, escribe el nombre de la otra persona'))# solicita el nombre al usuario2\n",
    "\n",
    "edad_usuario1 = int(input(f'Por favor, escribe tu edad {nombre_usuario1}'))# solicita la edad al usuario1\n",
    "edad_usuario2 = int(input(f'Por favor, escribe la edad de {nombre_usuario2}'))# solicita la edad al usuario2\n",
    "\n",
    "#nos muestra un mensaje que que nos dice si la edad es igual entre los 2 usuarios\n",
    "if edad_usuario1 == edad_usuario2: \n",
    "    print(f'{nombre_usuario1} tiene la misma edad que {nombre_usuario2}')\n",
    "else:\n",
    "    print(f'{nombre_usuario1} y {nombre_usuario2} no tienen la misma edad')\n",
    "\n"
   ]
  },
  {
   "cell_type": "markdown",
   "metadata": {},
   "source": [
    "# Problema #4\n",
    "\n",
    "### 3. Convertir grados centígrados a Fahrenheit.\n",
    "\n",
    "## Entrada: leer grados ceneigrados\n",
    "\n",
    "## Proceso: fahrenheit = grados_centigrados * 9/5 + 32\n",
    "\n",
    "## Salida: la convercion de grados centigrados a Fahrenheit."
   ]
  },
  {
   "cell_type": "code",
   "execution_count": null,
   "metadata": {},
   "outputs": [
    {
     "name": "stdout",
     "output_type": "stream",
     "text": [
      "los grados fahrenheit son 77.0\n"
     ]
    }
   ],
   "source": [
    "## aplicacion realizada por Carlos Moya Moya\n",
    "## Hecho el 02/2025\n",
    "\n",
    "\n",
    "grados_centigrados = float(input(\"Por favor ingrese los grados Centigrados\"))#Solicita al usuario los grados que desea convertir de C a F\n",
    "\n",
    "grados_faharenheit = (grados_centigrados * 9/5) + 32 #formula para hacer la convercion de C a F\n",
    "\n",
    "print(f'los grados fahrenheit son {grados_faharenheit}') # muestra un mensaje con el resultado final de la convercion\n",
    "\n",
    "\n"
   ]
  }
 ],
 "metadata": {
  "colab": {
   "provenance": []
  },
  "kernelspec": {
   "display_name": "Python 3",
   "name": "python3"
  },
  "language_info": {
   "codemirror_mode": {
    "name": "ipython",
    "version": 3
   },
   "file_extension": ".py",
   "mimetype": "text/x-python",
   "name": "python",
   "nbconvert_exporter": "python",
   "pygments_lexer": "ipython3",
   "version": "3.13.2"
  }
 },
 "nbformat": 4,
 "nbformat_minor": 0
}
